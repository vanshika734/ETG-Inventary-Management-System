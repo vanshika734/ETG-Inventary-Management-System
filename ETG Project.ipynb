{
  "nbformat": 4,
  "nbformat_minor": 0,
  "metadata": {
    "colab": {
      "name": "Untitled0.ipynb",
      "provenance": [],
      "collapsed_sections": []
    },
    "kernelspec": {
      "name": "python3",
      "display_name": "Python 3"
    },
    "language_info": {
      "name": "python"
    }
  },
  "cells": [
    {
      "cell_type": "code",
      "metadata": {
        "id": "WEBfr-X8h92h"
      },
      "source": [
        ""
      ],
      "execution_count": null,
      "outputs": []
    },
    {
      "cell_type": "code",
      "metadata": {
        "id": "DtMlzAJ4adgT"
      },
      "source": [
        "import json\n",
        "fd = open(\"record.json\",'r')\n",
        "r = fd.read()\n",
        "fd.close()\n",
        "\n",
        "record = json.loads(r)"
      ],
      "execution_count": null,
      "outputs": []
    },
    {
      "cell_type": "markdown",
      "metadata": {
        "id": "M-3kgIvQXoY7"
      },
      "source": [
        "****READ INVENTORY**** **bold text**"
      ]
    },
    {
      "cell_type": "code",
      "metadata": {
        "colab": {
          "base_uri": "https://localhost:8080/"
        },
        "id": "mQlfXPrvmT9g",
        "outputId": "4d6af17c-ff66-491b-bdb2-5c5fc8bbd881"
      },
      "source": [
        "record"
      ],
      "execution_count": null,
      "outputs": [
        {
          "output_type": "execute_result",
          "data": {
            "text/plain": [
              "{'1001': {'name': 'Choco Cake', 'pr': 100, 'qn': 34},\n",
              " '1002': {'name': 'Milk Cake', 'pr': 800, 'qn': 100},\n",
              " '1003': {'name': 'Drink', 'pr': 85, 'qn': 100},\n",
              " '1004': {'name': 'Candy', 'pr': 5, 'qn': 1000},\n",
              " '1005': {'name': 'Pen', 'pr': 20, 'qn': 100},\n",
              " '1006': {'name': 'Phone', 'pr': 50000, 'qn': 10},\n",
              " '1007': {'name': 'Mic', 'pr': 1500, 'qn': 0},\n",
              " '1008': {'name': 'Case', 'pr': 599, 'qn': 5},\n",
              " '1009': {'name': 'Keyboard', 'pr': 1999, 'qn': 10}}"
            ]
          },
          "metadata": {},
          "execution_count": 18
        }
      ]
    },
    {
      "cell_type": "markdown",
      "metadata": {
        "id": "BibnFhQ6XF-s"
      },
      "source": [
        "**ADD NEW ITEM INTO INVENTORY**"
      ]
    },
    {
      "cell_type": "code",
      "metadata": {
        "colab": {
          "base_uri": "https://localhost:8080/"
        },
        "id": "7jFs74R4mbFU",
        "outputId": "8f14b56d-24c8-4737-adb5-09abab3ca7c4"
      },
      "source": [
        "prod_id = str(input(\"Enter product id:\"))\n",
        "name = str(input(\"Enter name:\"))\n",
        "pr = int(input(\"Enter price:\"))\n",
        "qn = int(input(\"Enter quantity:\"))\n",
        "\n",
        "record[prod_id] = {'name': name, 'pr': pr, 'qn': qn}\n",
        "\n",
        "js = json.dumps(record)\n",
        "\n",
        "\n",
        "fd = open(\"record.json\",'w')\n",
        "fd.write(js)\n",
        "fd.close()"
      ],
      "execution_count": null,
      "outputs": [
        {
          "name": "stdout",
          "output_type": "stream",
          "text": [
            "Enter product id:9865\n",
            "Enter name:Tong\n",
            "Enter price:456\n",
            "Enter quantity:789\n"
          ]
        }
      ]
    },
    {
      "cell_type": "code",
      "metadata": {
        "colab": {
          "base_uri": "https://localhost:8080/"
        },
        "id": "LuaZhbRbmg2E",
        "outputId": "c5180f01-04be-4d55-fde8-f8d477b0a799"
      },
      "source": [
        "\n",
        "record"
      ],
      "execution_count": null,
      "outputs": [
        {
          "output_type": "execute_result",
          "data": {
            "text/plain": [
              "{'1001': {'name': 'Choco Cake', 'pr': 100, 'qn': 34},\n",
              " '1002': {'name': 'Milk Cake', 'pr': 800, 'qn': 100},\n",
              " '1003': {'name': 'Drink', 'pr': 85, 'qn': 100},\n",
              " '1004': {'name': 'Candy', 'pr': 5, 'qn': 1000},\n",
              " '1005': {'name': 'Pen', 'pr': 20, 'qn': 100},\n",
              " '1006': {'name': 'Phone', 'pr': 50000, 'qn': 10},\n",
              " '1007': {'name': 'Mic', 'pr': 1500, 'qn': 0},\n",
              " '1008': {'name': 'Case', 'pr': 599, 'qn': 5},\n",
              " '1009': {'name': 'Keyboard', 'pr': 1999, 'qn': 10},\n",
              " '1045': {'name': 'Bottle', 'pr': 75, 'qn': 120},\n",
              " '1085': {'name': 'Earphones', 'pr': 457, 'qn': 75},\n",
              " '1564': {'name': 'Almirah', 'pr': 654, 'qn': 968},\n",
              " '2015': {'name': 'Charger', 'pr': 95, 'qn': 45},\n",
              " '2054': {'name': 'Cards', 'pr': 85, 'qn': 15},\n",
              " '2065': {'name': 'Rings', 'pr': 85, 'qn': 156},\n",
              " '2105': {'name': 'Copies', 'pr': 75, 'qn': 151},\n",
              " '2564': {'name': 'Extension box', 'pr': 462, 'qn': 46},\n",
              " '3025': {'name': 'Keys', 'pr': 85, 'qn': 456},\n",
              " '3056': {'name': 'Sim', 'pr': 86, 'qn': 425},\n",
              " '3655': {'name': 'Mouse', 'pr': 600, 'qn': 164},\n",
              " '5656': {'name': 'Carry bag', 'pr': 65, 'qn': 1230},\n",
              " '6542': {'name': 'Bowl', 'pr': 7895, 'qn': 4562},\n",
              " '6957': {'name': 'Slippers', 'pr': 968, 'qn': 895},\n",
              " '785': {'name': '15', 'pr': 45, 'qn': 750},\n",
              " '7854': {'name': 'Coffee', 'pr': 45, 'qn': 150},\n",
              " '78954': {'name': 'Namkeen ', 'pr': 966, 'qn': 785},\n",
              " '8564': {'name': 'Coller', 'pr': 4500, 'qn': 10},\n",
              " '895': {'name': 'Cover', 'pr': 895, 'qn': 795},\n",
              " '8954': {'name': 'Goggles', 'pr': 89, 'qn': 55},\n",
              " '9205': {'name': 'Television', 'pr': 8500, 'qn': 46},\n",
              " '9565': {'name': 'Dairy', 'pr': 653, 'qn': 16},\n",
              " '9654': {'name': 'Mug', 'pr': 65, 'qn': 856},\n",
              " '9856': {'name': 'Coil', 'pr': 85, 'qn': 79}}"
            ]
          },
          "metadata": {},
          "execution_count": 34
        }
      ]
    },
    {
      "cell_type": "code",
      "metadata": {
        "id": "QyYlD1W9mr1w"
      },
      "source": [
        "js = json.dumps(record)\n",
        "\n",
        "fd = open(\"record.json\",'w')\n",
        "fd.write(js)\n",
        "fd.close()"
      ],
      "execution_count": null,
      "outputs": []
    },
    {
      "cell_type": "code",
      "metadata": {
        "id": "wd08ka3KnItm"
      },
      "source": [
        "del record['1001']"
      ],
      "execution_count": null,
      "outputs": []
    },
    {
      "cell_type": "code",
      "metadata": {
        "colab": {
          "base_uri": "https://localhost:8080/"
        },
        "id": "8ZVY1XkknKi3",
        "outputId": "621a7b39-868c-4dde-b449-43f2d157a062"
      },
      "source": [
        "record"
      ],
      "execution_count": null,
      "outputs": [
        {
          "output_type": "execute_result",
          "data": {
            "text/plain": [
              "{'1002': {'name': 'Milk Cake', 'pr': 800, 'qn': 100},\n",
              " '1003': {'name': 'Drink', 'pr': 85, 'qn': 100},\n",
              " '1004': {'name': 'Candy', 'pr': 5, 'qn': 1000},\n",
              " '1005': {'name': 'Pen', 'pr': 20, 'qn': 100},\n",
              " '1006': {'name': 'Phone', 'pr': 50000, 'qn': 10},\n",
              " '1007': {'name': 'Mic', 'pr': 1500, 'qn': 0},\n",
              " '1008': {'name': 'Case', 'pr': 599, 'qn': 5},\n",
              " '1009': {'name': 'Keyboard', 'pr': 1999, 'qn': 10},\n",
              " '1045': {'name': 'Bottle', 'pr': 75, 'qn': 120},\n",
              " '1085': {'name': 'Earphones', 'pr': 457, 'qn': 75},\n",
              " '1564': {'name': 'Almirah', 'pr': 654, 'qn': 968},\n",
              " '2015': {'name': 'Charger', 'pr': 95, 'qn': 45},\n",
              " '2054': {'name': 'Cards', 'pr': 85, 'qn': 15},\n",
              " '2065': {'name': 'Rings', 'pr': 85, 'qn': 156},\n",
              " '2105': {'name': 'Copies', 'pr': 75, 'qn': 151},\n",
              " '2564': {'name': 'Extension box', 'pr': 462, 'qn': 46},\n",
              " '3025': {'name': 'Keys', 'pr': 85, 'qn': 456},\n",
              " '3056': {'name': 'Sim', 'pr': 86, 'qn': 425},\n",
              " '3655': {'name': 'Mouse', 'pr': 600, 'qn': 164},\n",
              " '5656': {'name': 'Carry bag', 'pr': 65, 'qn': 1230},\n",
              " '6542': {'name': 'Bowl', 'pr': 7895, 'qn': 4562},\n",
              " '6957': {'name': 'Slippers', 'pr': 968, 'qn': 895},\n",
              " '785': {'name': '15', 'pr': 45, 'qn': 750},\n",
              " '7854': {'name': 'Coffee', 'pr': 45, 'qn': 150},\n",
              " '78954': {'name': 'Namkeen ', 'pr': 966, 'qn': 785},\n",
              " '8564': {'name': 'Coller', 'pr': 4500, 'qn': 10},\n",
              " '895': {'name': 'Cover', 'pr': 895, 'qn': 795},\n",
              " '8954': {'name': 'Goggles', 'pr': 89, 'qn': 55},\n",
              " '9205': {'name': 'Television', 'pr': 8500, 'qn': 46},\n",
              " '9565': {'name': 'Dairy', 'pr': 653, 'qn': 16},\n",
              " '9567': {'name': 'Hammer', 'pr': 8967, 'qn': 78957},\n",
              " '9654': {'name': 'Mug', 'pr': 65, 'qn': 856},\n",
              " '9856': {'name': 'Coil', 'pr': 85, 'qn': 79},\n",
              " '9865': {'name': 'Tong', 'pr': 456, 'qn': 789}}"
            ]
          },
          "metadata": {},
          "execution_count": 38
        }
      ]
    },
    {
      "cell_type": "markdown",
      "metadata": {
        "id": "TgNU7FoTX9_B"
      },
      "source": [
        "**PURCHASE**"
      ]
    },
    {
      "cell_type": "code",
      "metadata": {
        "colab": {
          "base_uri": "https://localhost:8080/"
        },
        "id": "gNTQ2WZvN-Uq",
        "outputId": "ddc88965-1ddc-4954-9a0e-88a0dc750586"
      },
      "source": [
        "ui_prod  = str(input(\"Enter the product_Id: \"))\n",
        "ui_quant = int(input(\"Enter the quantity: \"))\n",
        "\n",
        "\n",
        "print(\"Product: \", record[ui_prod]['name'])\n",
        "print(\"Price: \", record[ui_prod]['pr'])\n",
        "print(\"Billing Amount: \", record[ui_prod]['pr'] * ui_quant)\n",
        "\n",
        "record[ui_prod]['qn'] = record[ui_prod]['qn'] - ui_quant"
      ],
      "execution_count": null,
      "outputs": [
        {
          "output_type": "stream",
          "name": "stdout",
          "text": [
            "Enter the product_Id: 9654\n",
            "Enter the quantity: 8\n",
            "Product:  Mug\n",
            "Price:  65\n",
            "Billing Amount:  520\n"
          ]
        }
      ]
    },
    {
      "cell_type": "markdown",
      "metadata": {
        "id": "mNHht6N0YKKs"
      },
      "source": [
        "**UPDATE INVENTORY AFTER PURCHASE**"
      ]
    },
    {
      "cell_type": "code",
      "metadata": {
        "id": "xaC4a34uOUB3"
      },
      "source": [
        "js = json.dumps(record)\n",
        "\n",
        "fd = open(\"record.json\",'w')\n",
        "fd.write(js)\n",
        "fd.close()"
      ],
      "execution_count": null,
      "outputs": []
    },
    {
      "cell_type": "code",
      "metadata": {
        "colab": {
          "base_uri": "https://localhost:8080/"
        },
        "id": "hIOx5nXpP4tS",
        "outputId": "d0bdc091-d256-4eec-8fe0-287c1698c475"
      },
      "source": [
        "record"
      ],
      "execution_count": null,
      "outputs": [
        {
          "output_type": "execute_result",
          "data": {
            "text/plain": [
              "{'1002': {'name': 'Milk Cake', 'pr': 800, 'qn': 100},\n",
              " '1003': {'name': 'Drink', 'pr': 85, 'qn': 100},\n",
              " '1004': {'name': 'Candy', 'pr': 5, 'qn': 1000},\n",
              " '1005': {'name': 'Pen', 'pr': 20, 'qn': 100},\n",
              " '1006': {'name': 'Phone', 'pr': 50000, 'qn': 10},\n",
              " '1007': {'name': 'Mic', 'pr': 1500, 'qn': 0},\n",
              " '1008': {'name': 'Case', 'pr': 599, 'qn': 5},\n",
              " '1009': {'name': 'Keyboard', 'pr': 1999, 'qn': 10},\n",
              " '1045': {'name': 'Bottle', 'pr': 75, 'qn': 120},\n",
              " '1085': {'name': 'Earphones', 'pr': 457, 'qn': 75},\n",
              " '1564': {'name': 'Almirah', 'pr': 654, 'qn': 968},\n",
              " '2015': {'name': 'Charger', 'pr': 95, 'qn': 45},\n",
              " '2054': {'name': 'Cards', 'pr': 85, 'qn': 15},\n",
              " '2065': {'name': 'Rings', 'pr': 85, 'qn': 156},\n",
              " '2105': {'name': 'Copies', 'pr': 75, 'qn': 151},\n",
              " '2564': {'name': 'Extension box', 'pr': 462, 'qn': 46},\n",
              " '3025': {'name': 'Keys', 'pr': 85, 'qn': 456},\n",
              " '3056': {'name': 'Sim', 'pr': 86, 'qn': 425},\n",
              " '3655': {'name': 'Mouse', 'pr': 600, 'qn': 164},\n",
              " '5656': {'name': 'Carry bag', 'pr': 65, 'qn': 1230},\n",
              " '6542': {'name': 'Bowl', 'pr': 7895, 'qn': 4562},\n",
              " '6957': {'name': 'Slippers', 'pr': 968, 'qn': 895},\n",
              " '785': {'name': '15', 'pr': 45, 'qn': 750},\n",
              " '7854': {'name': 'Coffee', 'pr': 45, 'qn': 150},\n",
              " '78954': {'name': 'Namkeen ', 'pr': 966, 'qn': 785},\n",
              " '8564': {'name': 'Coller', 'pr': 4500, 'qn': 10},\n",
              " '895': {'name': 'Cover', 'pr': 895, 'qn': 795},\n",
              " '8954': {'name': 'Goggles', 'pr': 89, 'qn': 55},\n",
              " '9205': {'name': 'Television', 'pr': 8500, 'qn': 46},\n",
              " '9565': {'name': 'Dairy', 'pr': 653, 'qn': 16},\n",
              " '9567': {'name': 'Hammer', 'pr': 8967, 'qn': 78957},\n",
              " '9654': {'name': 'Mug', 'pr': 65, 'qn': 848},\n",
              " '9856': {'name': 'Coil', 'pr': 85, 'qn': 71},\n",
              " '9865': {'name': 'Tong', 'pr': 456, 'qn': 785}}"
            ]
          },
          "metadata": {},
          "execution_count": 46
        }
      ]
    },
    {
      "cell_type": "markdown",
      "metadata": {
        "id": "nolNmEb0YbnG"
      },
      "source": [
        "**SALES JSON**"
      ]
    },
    {
      "cell_type": "code",
      "metadata": {
        "colab": {
          "base_uri": "https://localhost:8080/"
        },
        "id": "jfX23pImQKxC",
        "outputId": "cb6dd55f-6f51-467e-8cd4-175cb598c5a8"
      },
      "source": [
        "{'prod' : ui_prod, 'qn' : ui_quant, 'amount': record[ui_prod]['pr'] * ui_quant}"
      ],
      "execution_count": null,
      "outputs": [
        {
          "output_type": "execute_result",
          "data": {
            "text/plain": [
              "{'amount': 520, 'prod': '9654', 'qn': 8}"
            ]
          },
          "metadata": {},
          "execution_count": 47
        }
      ]
    },
    {
      "cell_type": "code",
      "metadata": {
        "id": "9HcWQR3OZchU"
      },
      "source": [
        "sales = {1 : {'prod' : ui_prod, 'qn' : ui_quant, 'amount': record[ui_prod]['pr'] * ui_quant},\n",
        "         2 : {'prod' : ui_prod, 'qn' : ui_quant, 'amount': record[ui_prod]['pr'] * ui_quant},\n",
        "         3 : {'prod' : ui_prod, 'qn' : ui_quant, 'amount': record[ui_prod]['pr'] * ui_quant}}"
      ],
      "execution_count": null,
      "outputs": []
    },
    {
      "cell_type": "code",
      "metadata": {
        "id": "R6WlRxebZj3Q"
      },
      "source": [
        "sale = json.dumps(sales)"
      ],
      "execution_count": null,
      "outputs": []
    },
    {
      "cell_type": "code",
      "metadata": {
        "id": "E7EPgbk0Zm6Q"
      },
      "source": [
        ""
      ],
      "execution_count": null,
      "outputs": []
    },
    {
      "cell_type": "code",
      "metadata": {
        "id": "KGnCJpHeQUWH"
      },
      "source": [
        "sales = {}\n",
        "sales = {1 : {'prod' : 89544, 'qn' : 89, 'amount': 89},\n",
        "         2 : {'prod' : 9865, 'qn' : 65, 'amount': 653},\n",
        "         3 : {'prod' : 9856, 'qn' : 85, 'amount': 85},\n",
        "         4 : {'prod' : 9654, 'qn' : 8, 'amount': 65},\n",
        "         5 : {'prod' : 9205, 'qn' : 2, 'amount': 653}}"
      ],
      "execution_count": null,
      "outputs": []
    },
    {
      "cell_type": "code",
      "metadata": {
        "colab": {
          "base_uri": "https://localhost:8080/"
        },
        "id": "L2-12SgEQk4W",
        "outputId": "0012d6b3-9517-4ab1-d182-bf4ce50442db"
      },
      "source": [
        "sales"
      ],
      "execution_count": null,
      "outputs": [
        {
          "output_type": "execute_result",
          "data": {
            "text/plain": [
              "{1: {'amount': 89, 'prod': 89544, 'qn': 89},\n",
              " 2: {'amount': 653, 'prod': 9865, 'qn': 65},\n",
              " 3: {'amount': 85, 'prod': 9856, 'qn': 85},\n",
              " 4: {'amount': 65, 'prod': 9654, 'qn': 8},\n",
              " 5: {'amount': 653, 'prod': 9205, 'qn': 2}}"
            ]
          },
          "metadata": {},
          "execution_count": 54
        }
      ]
    },
    {
      "cell_type": "code",
      "metadata": {
        "id": "iCNn9wS2Tr0i"
      },
      "source": [
        "sale = json.dumps(sales)\n",
        "fd = open(\"sales.json\",'w')\n",
        "fd.write('sales')\n",
        "fd.close()"
      ],
      "execution_count": null,
      "outputs": []
    },
    {
      "cell_type": "code",
      "metadata": {
        "colab": {
          "base_uri": "https://localhost:8080/",
          "height": 52
        },
        "id": "c_UQNDtjWXbm",
        "outputId": "1c744269-90c4-4850-eb23-9216a195e214"
      },
      "source": [
        "sale"
      ],
      "execution_count": null,
      "outputs": [
        {
          "output_type": "execute_result",
          "data": {
            "application/vnd.google.colaboratory.intrinsic+json": {
              "type": "string"
            },
            "text/plain": [
              "'{\"1\": {\"prod\": 89544, \"qn\": 89, \"amount\": 89}, \"2\": {\"prod\": 9865, \"qn\": 65, \"amount\": 653}, \"3\": {\"prod\": 9856, \"qn\": 85, \"amount\": 85}, \"4\": {\"prod\": 9654, \"qn\": 8, \"amount\": 65}, \"5\": {\"prod\": 9205, \"qn\": 2, \"amount\": 653}}'"
            ]
          },
          "metadata": {},
          "execution_count": 57
        }
      ]
    },
    {
      "cell_type": "code",
      "metadata": {
        "id": "8kK4inx-Wicf"
      },
      "source": [
        "sales = {1 : {'prod' : ui_prod, 'qn' : ui_quant, 'amount': record[ui_prod]['pr'] * ui_quant},\n",
        "         2 : {'prod' : ui_prod, 'qn' : ui_quant, 'amount': record[ui_prod]['pr'] * ui_quant},\n",
        "         3 : {'prod' : ui_prod, 'qn' : ui_quant, 'amount': record[ui_prod]['pr'] * ui_quant}}"
      ],
      "execution_count": null,
      "outputs": []
    },
    {
      "cell_type": "code",
      "metadata": {
        "colab": {
          "base_uri": "https://localhost:8080/",
          "height": 52
        },
        "id": "Lfbu1Oe8ZWXZ",
        "outputId": "1388b47c-97f0-425d-e7f4-a1e9e771ccb1"
      },
      "source": [
        "sale"
      ],
      "execution_count": null,
      "outputs": [
        {
          "output_type": "execute_result",
          "data": {
            "application/vnd.google.colaboratory.intrinsic+json": {
              "type": "string"
            },
            "text/plain": [
              "'{\"1\": {\"prod\": 89544, \"qn\": 89, \"amount\": 89}, \"2\": {\"prod\": 9865, \"qn\": 65, \"amount\": 653}, \"3\": {\"prod\": 9856, \"qn\": 85, \"amount\": 85}, \"4\": {\"prod\": 9654, \"qn\": 8, \"amount\": 65}, \"5\": {\"prod\": 9205, \"qn\": 2, \"amount\": 653}}'"
            ]
          },
          "metadata": {},
          "execution_count": 60
        }
      ]
    },
    {
      "cell_type": "markdown",
      "metadata": {
        "id": "6wPtOuWiYljS"
      },
      "source": [
        "**THANK YOU**"
      ]
    },
    {
      "cell_type": "code",
      "metadata": {
        "id": "tUsoNHiHZVXq"
      },
      "source": [
        ""
      ],
      "execution_count": null,
      "outputs": []
    },
    {
      "cell_type": "code",
      "metadata": {
        "id": "ACVFe8HrYsRW"
      },
      "source": [
        ""
      ],
      "execution_count": null,
      "outputs": []
    }
  ]
}